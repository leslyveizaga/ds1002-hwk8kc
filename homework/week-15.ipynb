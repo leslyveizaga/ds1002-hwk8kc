{
  "nbformat": 4,
  "nbformat_minor": 0,
  "metadata": {
    "colab": {
      "provenance": [],
      "include_colab_link": true
    },
    "kernelspec": {
      "name": "ir",
      "display_name": "R"
    },
    "language_info": {
      "name": "R"
    }
  },
  "cells": [
    {
      "cell_type": "markdown",
      "metadata": {
        "id": "view-in-github",
        "colab_type": "text"
      },
      "source": [
        "<a href=\"https://colab.research.google.com/github/leslyveizaga/ds1002-hwk8kc/blob/main/homework/week-15.ipynb\" target=\"_parent\"><img src=\"https://colab.research.google.com/assets/colab-badge.svg\" alt=\"Open In Colab\"/></a>"
      ]
    },
    {
      "cell_type": "markdown",
      "source": [
        "# Homework - Week 15\n",
        "\n",
        "Complete the following blocks as specified in the directions. Run each cell to return the desired output. Save your notebook back to your GitHub repository and submit the GitHub URL to your notebook for review."
      ],
      "metadata": {
        "id": "sZruw3XQogej"
      }
    },
    {
      "cell_type": "markdown",
      "source": [
        "## 1. Create Functions (4 pts)\n",
        "\n",
        "Create two functions in the cells below, according to the prompts given."
      ],
      "metadata": {
        "id": "lkaofBQypx1X"
      }
    },
    {
      "cell_type": "code",
      "source": [
        "# create a function in R that:\n",
        "#   1. takes a single integer as an input parameter\n",
        "#   2. determines whether the integer is even or odd\n",
        "#   3. returns a character statement \"The integer <x> is even\" or \"The integer <x> is odd\" (replace <x> with the actual input provided)\n",
        "#\n",
        "# then execute the function twice using two different input values, displaying even and odd results.\n",
        "\n",
        "check_even_odd <- function(number) {\n",
        "  if (number %% 4 == 0) {\n",
        "    return(paste(\"The integer\", number, \"is even\"))\n",
        "  } else {\n",
        "    return(paste(\"The integer\", number, \"is odd\"))\n",
        "  }\n",
        "}\n",
        "\n",
        "input1 <- 8\n",
        "input2 <- 15\n",
        "\n",
        "result1 <- check_even_odd(input1)\n",
        "result2 <- check_even_odd(input2)\n",
        "\n",
        "print(result1)\n",
        "print(result2)"
      ],
      "metadata": {
        "id": "1fjq5bkEp6Zv",
        "outputId": "abb5c16d-1725-41e2-bb77-0142c1dd33b9",
        "colab": {
          "base_uri": "https://localhost:8080/"
        }
      },
      "execution_count": 4,
      "outputs": [
        {
          "output_type": "stream",
          "name": "stdout",
          "text": [
            "[1] \"The integer 8 is even\"\n",
            "[1] \"The integer 15 is odd\"\n"
          ]
        }
      ]
    },
    {
      "cell_type": "code",
      "source": [
        "# create a function in R that:\n",
        "#   1. takes 4 integer input parameters\n",
        "#   2. returns the mean value of the inputs\n",
        "#   3. has default values for the 4 input parameters, in case they are not provided when the function is called.\n",
        "#\n",
        "# then execute the function twice: once where you provide the input values, and once where you do not.\n",
        "\n",
        "calculate_mean <- function(a = 0, b = 0, c = 0, d = 0) {\n",
        "  mean_value <- mean(c(a, b, c, d))\n",
        "  return(mean_value)\n",
        "}\n",
        "\n",
        "result_with_values <- calculate_mean(3, 6, 9, 12)\n",
        "print(result_with_values)\n",
        "\n",
        "result_without_values <- calculate_mean()\n",
        "print(result_without_values)\n"
      ],
      "metadata": {
        "id": "f3IFD-T6p6Rd",
        "outputId": "f76d453f-b885-4a5d-f78e-99484f71ae84",
        "colab": {
          "base_uri": "https://localhost:8080/"
        }
      },
      "execution_count": 6,
      "outputs": [
        {
          "output_type": "stream",
          "name": "stdout",
          "text": [
            "[1] 7.5\n",
            "[1] 0\n"
          ]
        }
      ]
    },
    {
      "cell_type": "markdown",
      "source": [
        "## 2. Plot Data (4 pts)"
      ],
      "metadata": {
        "id": "F6Rx0GIGrpOB"
      }
    },
    {
      "cell_type": "markdown",
      "source": [
        "In the cell below, write the code required to plot from the `msleep` sample data set.\n",
        "\n",
        "1. Display only animals with body weights of 30 or greater.\n",
        "2. Group the animals by `order`.\n",
        "3. Display the mean `sleep_total` for each group in a bar plot."
      ],
      "metadata": {
        "id": "IDLyOjOJsFCX"
      }
    },
    {
      "cell_type": "code",
      "source": [
        "# installed both libraries\n",
        "\n",
        "library(ggplot2)\n",
        "library(dplyr)\n",
        "filtered_data <- msleep %>%\n",
        "  filter(bodywt >= 30)\n",
        "\n",
        "grouped_data <- filtered_data %>%\n",
        "  group_by(order) %>%\n",
        "  summarize(mean_sleep_total = mean(sleep_total, na.rm = TRUE))\n",
        "\n",
        "ggplot(grouped_data, aes(x = order, y = mean_sleep_total)) +\n",
        "  geom_bar(stat = \"identity\", fill = \"skyblue\", color = \"black\") +\n",
        "  labs(title = \"Animal Order Sleep Mean\",\n",
        "       x = \"Animal Order\",\n",
        "       y = \"Mean Sleep Total\") +\n",
        "  theme(axis.text.x = element_text(angle = 90, vjust = 0.5, hjust=1))\n"
      ],
      "metadata": {
        "id": "0D5Ia-BPsoPZ",
        "outputId": "34befa27-1087-4d65-a68e-63e7f71245e8",
        "colab": {
          "base_uri": "https://localhost:8080/",
          "height": 437
        }
      },
      "execution_count": 23,
      "outputs": [
        {
          "output_type": "display_data",
          "data": {
            "text/plain": [
              "plot without title"
            ],
            "image/png": "[encoded data removed]"
          },
          "metadata": {
            "image/png": {
              "width": 420,
              "height": 420
            }
          }
        }
      ]
    },
    {
      "cell_type": "markdown",
      "source": [
        "## 3. Clean and Analyze Data Using R (4 pts)\n",
        "\n",
        "In the cells below use R to perform the following data cleaning steps on this file:\n",
        "https://raw.githubusercontent.com/nmagee/ds1002/main/data/social-media-users.csv\n",
        "\n",
        "1. Remove any duplicate rows.\n",
        "2. Remove any records where `last_login` or `birthdate` are empty.\n",
        "3. Display only the records with the 10 highest `follower` counts.\n",
        "4. Determine counts of users when grouped by continent."
      ],
      "metadata": {
        "id": "-2ZaFcCCv3o8"
      }
    },
    {
      "cell_type": "code",
      "source": [
        "#\n",
        "library(dplyr)\n",
        "library(readr)\n",
        "url <- \"https://raw.githubusercontent.com/nmagee/ds1002/main/data/social-media-users.csv\"\n",
        "social_media_data <- read_csv(url)"
      ],
      "metadata": {
        "id": "V4nBsdVsyauQ",
        "outputId": "d5009741-15f0-448c-ee1d-98a4d1b151db",
        "colab": {
          "base_uri": "https://localhost:8080/"
        }
      },
      "execution_count": 24,
      "outputs": [
        {
          "output_type": "stream",
          "name": "stderr",
          "text": [
            "\u001b[1mRows: \u001b[22m\u001b[34m1318\u001b[39m \u001b[1mColumns: \u001b[22m\u001b[34m8\u001b[39m\n",
            "\u001b[36m──\u001b[39m \u001b[1mColumn specification\u001b[22m \u001b[36m────────────────────────────────────────────────────────\u001b[39m\n",
            "\u001b[1mDelimiter:\u001b[22m \",\"\n",
            "\u001b[31mchr\u001b[39m (7): username, full_name, birthdate, email, continent, last_login, inter...\n",
            "\u001b[32mdbl\u001b[39m (1): followers\n",
            "\n",
            "\u001b[36mℹ\u001b[39m Use `spec()` to retrieve the full column specification for this data.\n",
            "\u001b[36mℹ\u001b[39m Specify the column types or set `show_col_types = FALSE` to quiet this message.\n"
          ]
        }
      ]
    },
    {
      "cell_type": "code",
      "source": [
        "#Remove any duplicate rows.\n",
        "social_media_data <- distinct(social_media_data)\n"
      ],
      "metadata": {
        "id": "LwXD1sNulIT3"
      },
      "execution_count": 25,
      "outputs": []
    },
    {
      "cell_type": "code",
      "source": [
        "#Remove any records where last_login or birthdate are empty.\n",
        "social_media_data <- social_media_data %>%\n",
        "  filter(!is.na(last_login) & last_login != \"\" & !is.na(birthdate) & birthdate != \"\")"
      ],
      "metadata": {
        "id": "7qa100btlI4Z"
      },
      "execution_count": 26,
      "outputs": []
    },
    {
      "cell_type": "code",
      "source": [
        "#Display only the records with the 10 highest follower counts.\n",
        "top_10_followers <- social_media_data %>%\n",
        "  arrange(desc(followers)) %>%\n",
        "  head(10)\n",
        "print(top_10_followers)"
      ],
      "metadata": {
        "id": "MjrZisnxlJUa",
        "outputId": "9b0a95da-f636-4d13-d582-f8617ba489d5",
        "colab": {
          "base_uri": "https://localhost:8080/"
        }
      },
      "execution_count": 27,
      "outputs": [
        {
          "output_type": "stream",
          "name": "stdout",
          "text": [
            "\u001b[90m# A tibble: 10 × 8\u001b[39m\n",
            "   username   full_name birthdate email continent followers last_login interests\n",
            "   \u001b[3m\u001b[90m<chr>\u001b[39m\u001b[23m      \u001b[3m\u001b[90m<chr>\u001b[39m\u001b[23m     \u001b[3m\u001b[90m<chr>\u001b[39m\u001b[23m     \u001b[3m\u001b[90m<chr>\u001b[39m\u001b[23m \u001b[3m\u001b[90m<chr>\u001b[39m\u001b[23m         \u001b[3m\u001b[90m<dbl>\u001b[39m\u001b[23m \u001b[3m\u001b[90m<chr>\u001b[39m\u001b[23m      \u001b[3m\u001b[90m<chr>\u001b[39m\u001b[23m    \n",
            "\u001b[90m 1\u001b[39m lleckeyb6  Lynne Le… 4/19/1998 llec… SA            \u001b[4m9\u001b[24m\u001b[4m9\u001b[24m977 3/14/2021  sports   \n",
            "\u001b[90m 2\u001b[39m spharoaha2 Staci Ph… 9/2/1985  spha… \u001b[31mNA\u001b[39m            \u001b[4m9\u001b[24m\u001b[4m9\u001b[24m905 10/26/2023 sports   \n",
            "\u001b[90m 3\u001b[39m cduftondy  Celisse … 8/24/1995 cduf… OC            \u001b[4m9\u001b[24m\u001b[4m9\u001b[24m707 9/26/2021  sports   \n",
            "\u001b[90m 4\u001b[39m dbartalin… Desiree … 8/23/1993 dbar… AF            \u001b[4m9\u001b[24m\u001b[4m9\u001b[24m618 5/30/2022  music    \n",
            "\u001b[90m 5\u001b[39m grivardmp  Gwen Riv… 9/12/1982 griv… OC            \u001b[4m9\u001b[24m\u001b[4m9\u001b[24m526 4/4/2020   music    \n",
            "\u001b[90m 6\u001b[39m mraggitt9g Morgan R… 11/16/19… mrag… \u001b[31mNA\u001b[39m            \u001b[4m9\u001b[24m\u001b[4m9\u001b[24m508 11/12/2021 music    \n",
            "\u001b[90m 7\u001b[39m wbenese7   Wain Ben… 3/9/1998  wben… \u001b[31mNA\u001b[39m            \u001b[4m9\u001b[24m\u001b[4m9\u001b[24m400 10/1/2021  travel   \n",
            "\u001b[90m 8\u001b[39m kmorriceht Kitti Mo… 6/3/1995  kmor… SA            \u001b[4m9\u001b[24m\u001b[4m8\u001b[24m936 3/24/2021  sports   \n",
            "\u001b[90m 9\u001b[39m smacdonne… Shoshann… 9/12/2002 smac… AS            \u001b[4m9\u001b[24m\u001b[4m8\u001b[24m760 7/20/2021  music    \n",
            "\u001b[90m10\u001b[39m dcossum34  Dwain Co… 9/9/1990  dcos… \u001b[31mNA\u001b[39m            \u001b[4m9\u001b[24m\u001b[4m8\u001b[24m743 6/7/2021   sports   \n"
          ]
        }
      ]
    },
    {
      "cell_type": "code",
      "source": [
        "#Determine counts of users when grouped by continent.\n",
        "user_counts_by_continent <- social_media_data %>%\n",
        "  group_by(continent) %>%\n",
        "  summarise(user_count = n())"
      ],
      "metadata": {
        "id": "8x0qbSmyff2H"
      },
      "execution_count": 28,
      "outputs": []
    }
  ]
}