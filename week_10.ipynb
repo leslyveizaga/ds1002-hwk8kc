{
  "nbformat": 4,
  "nbformat_minor": 0,
  "metadata": {
    "colab": {
      "provenance": [],
      "include_colab_link": true
    },
    "kernelspec": {
      "name": "python3",
      "display_name": "Python 3"
    },
    "language_info": {
      "name": "python"
    }
  },
  "cells": [
    {
      "cell_type": "markdown",
      "metadata": {
        "id": "view-in-github",
        "colab_type": "text"
      },
      "source": [
        "<a href=\"https://colab.research.google.com/github/leslyveizaga/ds1002-hwk8kc/blob/main/week_10.ipynb\" target=\"_parent\"><img src=\"https://colab.research.google.com/assets/colab-badge.svg\" alt=\"Open In Colab\"/></a>"
      ]
    },
    {
      "cell_type": "markdown",
      "source": [
        "# Homework - Week 10\n",
        "\n",
        "Complete the following blocks as specified in the directions. Run each cell to return the desired output. Save your notebook back to your GitHub repository and submit the GitHub URL to your notebook for review."
      ],
      "metadata": {
        "id": "phbaQTT5gy8A"
      }
    },
    {
      "cell_type": "markdown",
      "source": [
        "## Class Basics\n",
        "\n",
        "Closely inspect the class below and answer the questions in the following cells."
      ],
      "metadata": {
        "id": "38Pg39pMrDua"
      }
    },
    {
      "cell_type": "code",
      "source": [
        "\n",
        "class Products:\n",
        "  def __init__(self, id, name, price, description, manufacturer):\n",
        "    self.id = id\n",
        "    self.name = name\n",
        "    self.price = price\n",
        "    self.description = description\n",
        "    self.manufacturer = manufacturer\n",
        "\n",
        "  def print_product(self):\n",
        "    print(f\"Product {self.id} is {self.name} made by {self.manufacturer}. It costs ${self.price}\")\n"
      ],
      "metadata": {
        "id": "kdFLCHtOg53p"
      },
      "execution_count": null,
      "outputs": []
    },
    {
      "cell_type": "code",
      "source": [
        "# What are the attributes of this class?\n",
        "# Products.id = \"eyeliner\"\n",
        "# Products.name = \"magnificent liner\"\n",
        "# Products.price = \"15.99\"\n",
        "# Products.description = \"coffee-brown inspired\"\n",
        "# Products.manufacturer = \"lesly cosmetics\""
      ],
      "metadata": {
        "id": "SG85PC5Q0oSi"
      },
      "execution_count": null,
      "outputs": []
    },
    {
      "cell_type": "code",
      "source": [
        "# .In one line of code, create an instance of the class populating its attributes\n",
        "p = Products(\"eyeliner\", \"magnificent liner\", 15.99, \"coffee- brown inspired\", \" lesly cosmetics\")\n",
        "# p.print_product()\n"
      ],
      "metadata": {
        "id": "ckuUZlUc0q8D"
      },
      "execution_count": null,
      "outputs": []
    },
    {
      "cell_type": "code",
      "source": [
        "# Referencing the instance you just created, what code is required to print out the name of the instance?\n",
        "print(p.name)\n"
      ],
      "metadata": {
        "id": "Ksp2TAiM0u5t",
        "colab": {
          "base_uri": "https://localhost:8080/"
        },
        "outputId": "4409e6f3-be07-4579-acd1-c8d8a97ee76a"
      },
      "execution_count": null,
      "outputs": [
        {
          "output_type": "stream",
          "name": "stdout",
          "text": [
            "magnificent liner\n"
          ]
        }
      ]
    },
    {
      "cell_type": "markdown",
      "source": [
        "## Class Methods"
      ],
      "metadata": {
        "id": "0jQs4JYU2Kfh"
      }
    },
    {
      "cell_type": "code",
      "source": [
        "# Using the instance you created above, call the `print_product` method properly in a line of code.\n",
        "p.print_product()\n",
        "\n"
      ],
      "metadata": {
        "id": "aO-zWkhd172f",
        "colab": {
          "base_uri": "https://localhost:8080/"
        },
        "outputId": "fd7999c3-2e98-4fb2-db99-bbf9a0951731"
      },
      "execution_count": null,
      "outputs": [
        {
          "output_type": "stream",
          "name": "stdout",
          "text": [
            "Product eyeliner is magnificent liner made by  lesly cosmetics. It costs $15.99\n"
          ]
        }
      ]
    },
    {
      "cell_type": "code",
      "source": [
        "# Now declare the class again (copy + paste from above). But now add a NEW method that you write.\n",
        "# This method should create a new attribute called \"sales_price\" that is 80% of the normal price.\n",
        "#\n",
        "# Finally, write this method to print out a statement like \"The ________ product is on sale for _____\"\n",
        "# where you fill in the blanks with the name and sales_price of the product.\n",
        "\n",
        "class Products:\n",
        "  def __init__(self, id, name, price, description, manufacturer):\n",
        "    self.id = id\n",
        "    self.name = name\n",
        "    self.price = price\n",
        "    self.description = description\n",
        "    self.manufacturer = manufacturer\n",
        "\n",
        "  def on_sale(self):\n",
        "    self.sales_price = 0.8 * self.price\n",
        "    print(f\"The {self.name} is on sale for {self.sales_price}\")\n",
        "\n",
        "  def print_product(self):\n",
        "    print(f\"Product {self.id} is {self.name} made by {self.manufacturer}. It costs ${self.price}\")"
      ],
      "metadata": {
        "id": "75apcUeJ2VQo"
      },
      "execution_count": null,
      "outputs": []
    },
    {
      "cell_type": "code",
      "source": [
        "# Execute the class above\n"
      ],
      "metadata": {
        "id": "TZiNWOl_2-oh"
      },
      "execution_count": null,
      "outputs": []
    },
    {
      "cell_type": "code",
      "source": [
        "# Now create an instance of the class with new values.\n",
        "\n",
        "p2 = Products(\"eyeliner\", \"magnificent liner\", 15.99, \"coffee- brown inspired\", \" lesly cosmetics\")\n",
        "p2.print_product()"
      ],
      "metadata": {
        "id": "TT8qK1Ie3EVX",
        "colab": {
          "base_uri": "https://localhost:8080/"
        },
        "outputId": "c7f2e200-4e13-4639-a273-5892b8adabb3"
      },
      "execution_count": null,
      "outputs": [
        {
          "output_type": "stream",
          "name": "stdout",
          "text": [
            "Product eyeliner is magnificent liner made by  lesly cosmetics. It costs $15.99\n"
          ]
        }
      ]
    },
    {
      "cell_type": "code",
      "source": [
        "# Finally, using the instance you just created, invoke the new method you wrote. Be sure it prints\n",
        "# the desired text described above.\n",
        "p2.on_sale()\n"
      ],
      "metadata": {
        "id": "mobnFcMw3Icp",
        "colab": {
          "base_uri": "https://localhost:8080/"
        },
        "outputId": "00296950-bf1f-4565-9f4a-6714fd7d7f90"
      },
      "execution_count": null,
      "outputs": [
        {
          "output_type": "stream",
          "name": "stdout",
          "text": [
            "The magnificent liner is on sale for 12.792000000000002\n"
          ]
        }
      ]
    }
  ]
}